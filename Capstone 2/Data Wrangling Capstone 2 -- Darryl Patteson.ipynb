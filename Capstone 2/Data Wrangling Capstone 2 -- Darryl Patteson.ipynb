{
 "cells": [
  {
   "cell_type": "code",
   "execution_count": null,
   "id": "72757276",
   "metadata": {},
   "outputs": [],
   "source": [
    "#Imports\n",
    "import pandas as pd\n",
    "import matplotlib.pyplot as plt\n",
    "import seaborn as sns\n",
    "import os\n",
    "from library.sb_utils import save_file"
   ]
  },
  {
   "cell_type": "code",
   "execution_count": null,
   "id": "3268cc9b",
   "metadata": {},
   "outputs": [],
   "source": [
    "#load data"
   ]
  },
  {
   "cell_type": "code",
   "execution_count": null,
   "id": "ed787066",
   "metadata": {},
   "outputs": [],
   "source": [
    "#summary of data"
   ]
  },
  {
   "cell_type": "code",
   "execution_count": null,
   "id": "2ff86919",
   "metadata": {},
   "outputs": [],
   "source": [
    "#show head of data"
   ]
  },
  {
   "cell_type": "code",
   "execution_count": null,
   "id": "fc5493b7",
   "metadata": {},
   "outputs": [],
   "source": [
    "#count missing values by column"
   ]
  },
  {
   "cell_type": "code",
   "execution_count": null,
   "id": "2ade58f1",
   "metadata": {},
   "outputs": [],
   "source": [
    "#count missing values by row"
   ]
  },
  {
   "cell_type": "code",
   "execution_count": null,
   "id": "15e8846b",
   "metadata": {},
   "outputs": [],
   "source": [
    "#check for duplicate students"
   ]
  },
  {
   "cell_type": "code",
   "execution_count": null,
   "id": "3f1b1305",
   "metadata": {},
   "outputs": [],
   "source": [
    "#count values for each column of interest"
   ]
  },
  {
   "cell_type": "code",
   "execution_count": null,
   "id": "0e26d7e3",
   "metadata": {},
   "outputs": [],
   "source": [
    "#distributions of columns of interest"
   ]
  },
  {
   "cell_type": "code",
   "execution_count": null,
   "id": "694b8d26",
   "metadata": {},
   "outputs": [],
   "source": [
    "#describe method to see statistical summary of numerical columns"
   ]
  },
  {
   "cell_type": "code",
   "execution_count": null,
   "id": "bf88ad09",
   "metadata": {},
   "outputs": [],
   "source": [
    "#use histograms to view distributions of numerical columns"
   ]
  },
  {
   "cell_type": "code",
   "execution_count": null,
   "id": "4a5b8bdd",
   "metadata": {},
   "outputs": [],
   "source": [
    "#use bar charts to view distributions of categorical columns, look for potential errors or outliers"
   ]
  },
  {
   "cell_type": "code",
   "execution_count": null,
   "id": "1bd1a60a",
   "metadata": {},
   "outputs": [],
   "source": [
    "#handle any missing data appropriately"
   ]
  },
  {
   "cell_type": "code",
   "execution_count": null,
   "id": "81486cbe",
   "metadata": {},
   "outputs": [],
   "source": [
    "#rexamine new data set"
   ]
  },
  {
   "cell_type": "code",
   "execution_count": null,
   "id": "022029f6",
   "metadata": {},
   "outputs": [],
   "source": [
    "#save new data set as csv"
   ]
  },
  {
   "cell_type": "code",
   "execution_count": null,
   "id": "b6643cf2",
   "metadata": {},
   "outputs": [],
   "source": []
  }
 ],
 "metadata": {
  "kernelspec": {
   "display_name": "Python 3 (ipykernel)",
   "language": "python",
   "name": "python3"
  },
  "language_info": {
   "codemirror_mode": {
    "name": "ipython",
    "version": 3
   },
   "file_extension": ".py",
   "mimetype": "text/x-python",
   "name": "python",
   "nbconvert_exporter": "python",
   "pygments_lexer": "ipython3",
   "version": "3.11.5"
  }
 },
 "nbformat": 4,
 "nbformat_minor": 5
}
