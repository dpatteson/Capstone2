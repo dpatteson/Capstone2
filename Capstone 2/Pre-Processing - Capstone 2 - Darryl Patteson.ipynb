{
 "cells": [
  {
   "cell_type": "code",
   "execution_count": 1,
   "id": "594e978f",
   "metadata": {},
   "outputs": [],
   "source": [
    "#Import Libraries\n",
    "import numpy as np \n",
    "import pandas as pd \n",
    "import matplotlib.pyplot as plt \n",
    "import seaborn as sns\n",
    "import statsmodels.api as sm\n",
    "from statsmodels.graphics.api import abline_plot \n",
    "from sklearn.metrics import mean_squared_error, r2_score \n",
    "from sklearn.model_selection import train_test_split \n",
    "from sklearn import linear_model, preprocessing\n",
    "from sklearn.linear_model import LogisticRegression\n",
    "from sklearn.feature_selection import RFE\n",
    "from sklearn.preprocessing import StandardScaler, MinMaxScaler\n",
    "StandardScaler, MinMaxScaler\n",
    "import warnings \n",
    "warnings.simplefilter(action=\"ignore\", category=FutureWarning)\n",
    "warnings.filterwarnings(action=\"ignore\", module=\"scipy\", message=\"^internal gelsd\")"
   ]
  },
  {
   "cell_type": "code",
   "execution_count": 2,
   "id": "1055bffc",
   "metadata": {},
   "outputs": [],
   "source": [
    "#Load the data\n",
    "df = pd.read_csv(\"datanew.csv\")\n",
    "df = df.drop(columns=['Unnamed: 0'])"
   ]
  },
  {
   "cell_type": "code",
   "execution_count": 3,
   "id": "9de2ea92",
   "metadata": {},
   "outputs": [],
   "source": [
    "#Subset Data Frame for Enrolled for end of project to predict\n",
    "df_prediction = df[df['Target'] == \"Enrolled\"]"
   ]
  },
  {
   "cell_type": "code",
   "execution_count": 4,
   "id": "6b502992",
   "metadata": {},
   "outputs": [
    {
     "data": {
      "text/plain": [
       "Target\n",
       "Graduate    2209\n",
       "Dropout     1421\n",
       "Name: count, dtype: int64"
      ]
     },
     "execution_count": 4,
     "metadata": {},
     "output_type": "execute_result"
    }
   ],
   "source": [
    "#Subset Data Frame for Target (either Dropped Out or Graduated) for future train_test_split\n",
    "df = df[df['Target'] != \"Enrolled\"]\n",
    "df[\"Target\"].value_counts()"
   ]
  },
  {
   "cell_type": "code",
   "execution_count": 5,
   "id": "066da67b",
   "metadata": {},
   "outputs": [],
   "source": [
    "#Family Occupation is telling us a lot of the same things as Family Qualification. Remove Occupation\n",
    "df = df.drop(columns=[\"Mother's occupation\", \"Father's occupation\"])"
   ]
  },
  {
   "cell_type": "code",
   "execution_count": 6,
   "id": "ccbedc93",
   "metadata": {},
   "outputs": [],
   "source": [
    "#0 & 1 values for already binary columns\n",
    "df[\"Displaced\"] = df[\"Displaced\"].map({'yes': 1, 'no': 0})\n",
    "df[\"Educational special needs\"] = df[\"Educational special needs\"].map({'yes': 1, 'no': 0})\n",
    "df[\"Debtor\"] = df[\"Debtor\"].map({'yes': 1, 'no': 0})\n",
    "df[\"Tuition fees up to date\"] = df[\"Tuition fees up to date\"].map({'yes': 1, 'no': 0})\n",
    "df[\"Gender\"] = df[\"Gender\"].map({'female': 1, 'male': 0})\n",
    "df[\"Scholarship holder\"] = df[\"Scholarship holder\"].map({'yes': 1, 'no': 0})\n",
    "df[\"International\"] = df[\"International\"].map({'yes': 1, 'no': 0})"
   ]
  },
  {
   "cell_type": "code",
   "execution_count": 7,
   "id": "24488a1f",
   "metadata": {},
   "outputs": [],
   "source": [
    "#Create Dummy Features\n",
    "#Identify Object Columns to Binarize\n",
    "object_columns = df.select_dtypes(object)\n",
    "obj = object_columns.columns\n",
    "#Numerical Columns to merge with the Binarized Columns\n",
    "num_columns = df.select_dtypes([float, int])\n",
    "num = num_columns.columns"
   ]
  },
  {
   "cell_type": "code",
   "execution_count": 8,
   "id": "ecefef82",
   "metadata": {},
   "outputs": [],
   "source": [
    "#Binarize Variables\n",
    "bdf = pd.get_dummies(df[obj], dtype='int')\n",
    "#This makes two target variables, we just need to look at Target_Graduate to see 1 for Graduate, 0 for Dropout \n",
    "bdf = bdf.drop('Target_Dropout', axis=1)\n",
    "ndf = df[num]"
   ]
  },
  {
   "cell_type": "code",
   "execution_count": 9,
   "id": "f15f9d3f",
   "metadata": {},
   "outputs": [],
   "source": [
    "#Re-Merge Binary Portion of DataFrame and Numerical Portion of DataFrame\n",
    "df2 = pd.concat([bdf, ndf], axis=1)"
   ]
  },
  {
   "cell_type": "code",
   "execution_count": 10,
   "id": "b6c09d6c",
   "metadata": {},
   "outputs": [],
   "source": [
    "#Train, Test, Split\n",
    "X = df2.drop(columns=[\"Target_Graduate\"], axis = 1)\n",
    "y = df2[['Target_Graduate']]\n",
    "X_train, X_test, y_train, y_test = train_test_split(X, y, test_size=.25, random_state=44)"
   ]
  },
  {
   "cell_type": "code",
   "execution_count": 11,
   "id": "0b6dae80",
   "metadata": {},
   "outputs": [],
   "source": [
    "#Apply StandardScaler to Numerical Data\n",
    "scaler = StandardScaler()\n",
    "X_train_scaled = scaler.fit_transform(X_train)\n",
    "X_test_scaled = scaler.transform(X_test)"
   ]
  }
 ],
 "metadata": {
  "kernelspec": {
   "display_name": "Python 3 (ipykernel)",
   "language": "python",
   "name": "python3"
  },
  "language_info": {
   "codemirror_mode": {
    "name": "ipython",
    "version": 3
   },
   "file_extension": ".py",
   "mimetype": "text/x-python",
   "name": "python",
   "nbconvert_exporter": "python",
   "pygments_lexer": "ipython3",
   "version": "3.11.5"
  }
 },
 "nbformat": 4,
 "nbformat_minor": 5
}
